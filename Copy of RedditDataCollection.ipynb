{
 "cells": [
  {
   "cell_type": "code",
   "execution_count": 49,
   "id": "6c04d83c",
   "metadata": {},
   "outputs": [],
   "source": [
    "import praw\n",
    "import numpy as np \n",
    "import pandas as pd\n",
    "import matplotlib.pyplot as plt\n",
    "import networkx as nx\n",
    "from tqdm import tqdm\n",
    "#importing our error\n",
    "from prawcore.exceptions import Forbidden"
   ]
  },
  {
   "cell_type": "code",
   "execution_count": 50,
   "id": "6614e851",
   "metadata": {},
   "outputs": [],
   "source": [
    "client_id = \"7jKRRhTGQffOQpxgSfBEpA\"\n",
    "client_secret = \"rVl1Tx1gdoQN5uusoeK7arbnR1N8mA\"\n",
    "user_agent = \"sicss2022project\"\n",
    "username = \"mkalassi\"\n",
    "password = \"Kalassina4!\"\n",
    "    \n",
    "    \n",
    "reddit = praw.Reddit(client_id=client_id,\n",
    "                     client_secret=client_secret,\n",
    "                     user_agent=user_agent,\n",
    "                     username=username,\n",
    "                     password=password) \n",
    "\n",
    "# data_collector = rdc.DataCollector(\n",
    "#     client_id=client_id,\n",
    "#     client_secret=client_secret,\n",
    "#     user_agent=user_agent,\n",
    "#     username=username,\n",
    "#     password=password\n",
    "# )"
   ]
  },
  {
   "cell_type": "markdown",
   "id": "9d189189",
   "metadata": {},
   "source": [
    "## Data Collection from Reddit API"
   ]
  },
  {
   "cell_type": "code",
   "execution_count": 114,
   "id": "49710cf0",
   "metadata": {},
   "outputs": [],
   "source": [
    "def get_posts(sub_name, n):\n",
    "    subreddit = reddit.subreddit(sub_name)\n",
    "    posts_list = [] \n",
    "    \n",
    "    for submission in subreddit.top(limit=n):\n",
    "        info_list = []\n",
    "        info_list.append(submission.id)   # Output: the submission's title\n",
    "        info_list.append(submission.score)\n",
    "        info_list.append(submission.title)# Output: the submission's score  \n",
    "        info_list.append(str(submission.author)) \n",
    "        info_list.append(submission.num_comments)\n",
    "        info_list.append(submission.ups)\n",
    "        info_list.append(submission.downs)\n",
    "        info_list.append(submission.subreddit)\n",
    "        posts_list.append(info_list)\n",
    "    \n",
    "    a = sorted(posts_list, key=lambda x: x[1], reverse = True)\n",
    "    posts_df = pd.DataFrame(a, columns = ['id', 'score', 'text','author', 'num_comments','ups','downs','subreddit'])\n",
    "    return posts_df\n",
    "\n",
    "def get_comments(subm_id, n): \n",
    "    \n",
    "    com_list = []\n",
    "    submission = reddit.submission(id = subm_id)\n",
    "    i = 0\n",
    "    for comment in submission.comments:\n",
    "        info_list = []\n",
    "            # Top 3 comments for each submission\n",
    "        if i <= n:\n",
    "            info_list.append(comment.id)\n",
    "            #info_list.append(comment.score)\n",
    "            info_list.append(comment.body)\n",
    "            info_list.append(comment.ups)\n",
    "            info_list.append(comment.downs)\n",
    "            info_list.append(comment.author)\n",
    "            info_list.append(submission.subreddit)\n",
    "            #info_list.append(submission.comments.list()[i].body)\n",
    "            i += 1\n",
    "            com_list.append(info_list)\n",
    "        else:\n",
    "            break\n",
    "    \n",
    "    a = sorted(com_list, key=lambda x: x[1], reverse = True)\n",
    "    com_df = pd.DataFrame(a,columns=['id','text','ups','downs','author','subreddit'])\n",
    "    return com_df  \n",
    "\n",
    "def get_user_posts(author, n):\n",
    "    \n",
    "    redditor = reddit.redditor(author)\n",
    "    user_posts_list = []\n",
    "    \n",
    "    for submission in redditor.submissions.top(limit = n):\n",
    "        info_list = []\n",
    "        info_list.append(submission.id)\n",
    "        info_list.append(submission.score)\n",
    "        info_list.append(str(submission.author))\n",
    "        info_list.append(submission.num_comments)\n",
    "        info_list.append(str(submission.subreddit))\n",
    "        info_list.append(submission.subreddit_subscribers)\n",
    "        subspace_reddit = reddit.subreddit(str(submission.subreddit))\n",
    "        info_list.append(str(subspace_reddit.description))\n",
    "        user_posts_list.append(info_list)\n",
    "    \n",
    "    a = sorted(user_posts_list, key=lambda x: x[1], reverse = True)\n",
    "    user_posts_df = pd.DataFrame(a,columns=['id','score','author','num_comments','subreddit',\"sub_num_subscribers\",'subred_desc'])\n",
    "    user_posts_df['subred_desc']=user_posts_df['subred_desc'].astype('str')\n",
    "    return user_posts_df"
   ]
  },
  {
   "cell_type": "code",
   "execution_count": 45,
   "id": "9013a7dc",
   "metadata": {},
   "outputs": [],
   "source": [
    "def reddit_scraper1(subname):\n",
    "\n",
    "    #getting posts under the reddit\n",
    "    posts = get_posts(subname,None)\n",
    "    \n",
    "    #creating empty dataframe for comments under posts\n",
    "    comments_df=pd.DataFrame(columns=['id','score','text','ups','downs','author','subreddit'])\n",
    "    for post in tqdm(posts['id']):\n",
    "        \n",
    "        try:#comments DF\n",
    "            x=get_comments(post,100)\n",
    "            comments_df = pd.concat([comments_df,x],ignore_index=True)\n",
    "        except Forbidden:\n",
    "            pass\n",
    "        \n",
    "    #creating empty dataframe for users under comments\n",
    "    users_df=pd.DataFrame(columns=['id','score','author','num_comments','subreddit',\"sub_num_subscribers\",'subred_desc'])\n",
    "    for author in tqdm(comments_df['author']):\n",
    "        try:\n",
    "            y = get_user_posts(str(author), 50)\n",
    "            users_df = pd.concat([users_df,y],ignore_index=True)\n",
    "        except Forbidden:\n",
    "            pass\n",
    "    posts.to_csv(\"posts_final.csv\")\n",
    "    comments_df.to_csv(\"comments_final.csv\")\n",
    "    users_df.to_csv(\"users_final.csv\")\n"
   ]
  },
  {
   "cell_type": "code",
   "execution_count": 46,
   "id": "0871fdc7",
   "metadata": {},
   "outputs": [
    {
     "name": "stderr",
     "output_type": "stream",
     "text": [
      "100%|██████████| 269/269 [04:12<00:00,  1.06it/s]\n",
      "100%|██████████| 832/832 [7:09:21<00:00, 30.96s/it]    \n"
     ]
    }
   ],
   "source": [
    "reddit_scraper('roevwade2022')"
   ]
  },
  {
   "cell_type": "markdown",
   "id": "33321883",
   "metadata": {},
   "source": [
    "## Timetags"
   ]
  },
  {
   "cell_type": "code",
   "execution_count": 53,
   "id": "822ca4af",
   "metadata": {},
   "outputs": [
    {
     "data": {
      "text/html": [
       "<div>\n",
       "<style scoped>\n",
       "    .dataframe tbody tr th:only-of-type {\n",
       "        vertical-align: middle;\n",
       "    }\n",
       "\n",
       "    .dataframe tbody tr th {\n",
       "        vertical-align: top;\n",
       "    }\n",
       "\n",
       "    .dataframe thead th {\n",
       "        text-align: right;\n",
       "    }\n",
       "</style>\n",
       "<table border=\"1\" class=\"dataframe\">\n",
       "  <thead>\n",
       "    <tr style=\"text-align: right;\">\n",
       "      <th></th>\n",
       "      <th>id</th>\n",
       "      <th>score</th>\n",
       "      <th>text</th>\n",
       "      <th>author</th>\n",
       "      <th>num_comments</th>\n",
       "      <th>ups</th>\n",
       "      <th>downs</th>\n",
       "      <th>subreddit</th>\n",
       "    </tr>\n",
       "  </thead>\n",
       "  <tbody>\n",
       "    <tr>\n",
       "      <th>0</th>\n",
       "      <td>upq73b</td>\n",
       "      <td>269</td>\n",
       "      <td>BEST of...Signs at Bans Off Our Bodies Marches</td>\n",
       "      <td>QuarterBackground</td>\n",
       "      <td>15</td>\n",
       "      <td>269</td>\n",
       "      <td>0</td>\n",
       "      <td>roevwade2022</td>\n",
       "    </tr>\n",
       "    <tr>\n",
       "      <th>1</th>\n",
       "      <td>us1x3f</td>\n",
       "      <td>266</td>\n",
       "      <td>Pro-lifers have spent decades using litigation...</td>\n",
       "      <td>gear-heads</td>\n",
       "      <td>6</td>\n",
       "      <td>266</td>\n",
       "      <td>0</td>\n",
       "      <td>roevwade2022</td>\n",
       "    </tr>\n",
       "  </tbody>\n",
       "</table>\n",
       "</div>"
      ],
      "text/plain": [
       "       id  score                                               text  \\\n",
       "0  upq73b    269     BEST of...Signs at Bans Off Our Bodies Marches   \n",
       "1  us1x3f    266  Pro-lifers have spent decades using litigation...   \n",
       "\n",
       "              author  num_comments  ups  downs     subreddit  \n",
       "0  QuarterBackground            15  269      0  roevwade2022  \n",
       "1         gear-heads             6  266      0  roevwade2022  "
      ]
     },
     "execution_count": 53,
     "metadata": {},
     "output_type": "execute_result"
    }
   ],
   "source": [
    "get_posts('roevwade2022', 2)\n",
    "#get_user_posts('QuarterBackground',9)"
   ]
  },
  {
   "cell_type": "code",
   "execution_count": 90,
   "id": "3390b3c5",
   "metadata": {
    "scrolled": true
   },
   "outputs": [],
   "source": [
    "from datetime import datetime\n",
    "subreddit = reddit.subreddit('roevwade2022')\n",
    "\n",
    "l=[]\n",
    "for submission in subreddit.top(limit=None):\n",
    "    a=submission.created_utc\n",
    "    parsed_date = datetime.utcfromtimestamp(a)\n",
    "    year = parsed_date.year\n",
    "    month = parsed_date.month\n",
    "    day = parsed_date.day\n",
    "    x=[str(submission.id),parsed_date,year,month,day]\n",
    "    l.append(x)"
   ]
  },
  {
   "cell_type": "code",
   "execution_count": 92,
   "id": "df112bbd",
   "metadata": {},
   "outputs": [],
   "source": [
    "post_created = pd.DataFrame(l,columns=['post_id','parsed_date','year','month','day'])\n",
    "post_created.to_csv('post_dates.csv')"
   ]
  },
  {
   "cell_type": "code",
   "execution_count": 76,
   "id": "49cb91ce",
   "metadata": {},
   "outputs": [
    {
     "data": {
      "text/plain": [
       "[datetime.datetime(2022, 5, 14, 4, 6, 52), 2022, 5, 14]"
      ]
     },
     "execution_count": 76,
     "metadata": {},
     "output_type": "execute_result"
    }
   ],
   "source": [
    "x"
   ]
  },
  {
   "cell_type": "markdown",
   "id": "f086e224",
   "metadata": {},
   "source": [
    "## Other Reddit"
   ]
  },
  {
   "cell_type": "code",
   "execution_count": 108,
   "id": "6fbc84b4",
   "metadata": {},
   "outputs": [],
   "source": [
    "def reddit_scraper1(subname):\n",
    "\n",
    "    #getting posts under the reddit\n",
    "    posts = get_posts(subname,None)\n",
    "    posts.to_csv(\"posts_celebration.csv\")\n",
    "    \n",
    "    #creating empty dataframe for comments under posts\n",
    "    comments_df=pd.DataFrame(columns=['id','score','text','ups','downs','author','subreddit'])\n",
    "    for post in tqdm(posts['id']):\n",
    "        \n",
    "        try:#comments DF\n",
    "            x=get_comments(post,10000)\n",
    "            comments_df = pd.concat([comments_df,x],ignore_index=True)\n",
    "        except Forbidden:\n",
    "            pass\n",
    "    comments_df.to_csv(\"comments_celebration.csv\")\n",
    "    #creating empty dataframe for users under comments\n",
    "#     users_df=pd.DataFrame(columns=['id','score','author','num_comments','subreddit',\"sub_num_subscribers\",'subred_desc'])\n",
    "#     for author in tqdm(comments_df['author']):\n",
    "#         try:\n",
    "#             y = get_user_posts(str(author), 10)\n",
    "#             users_df = pd.concat([users_df,y],ignore_index=True)\n",
    "#         except Forbidden:\n",
    "#             pass\n",
    "    \n",
    "    \n",
    "#     users_df.to_csv(\"users_celebration.csv\")\n"
   ]
  },
  {
   "cell_type": "code",
   "execution_count": 109,
   "id": "c8f3c57b",
   "metadata": {},
   "outputs": [
    {
     "name": "stderr",
     "output_type": "stream",
     "text": [
      "100%|██████████| 158/158 [00:36<00:00,  4.34it/s]\n"
     ]
    }
   ],
   "source": [
    "reddit_scraper1('RoevWadeCelebration')"
   ]
  },
  {
   "cell_type": "code",
   "execution_count": null,
   "id": "feb162ae",
   "metadata": {},
   "outputs": [],
   "source": []
  },
  {
   "cell_type": "code",
   "execution_count": null,
   "id": "15149572",
   "metadata": {},
   "outputs": [],
   "source": []
  }
 ],
 "metadata": {
  "kernelspec": {
   "display_name": "Python 3",
   "language": "python",
   "name": "python3"
  },
  "language_info": {
   "codemirror_mode": {
    "name": "ipython",
    "version": 3
   },
   "file_extension": ".py",
   "mimetype": "text/x-python",
   "name": "python",
   "nbconvert_exporter": "python",
   "pygments_lexer": "ipython3",
   "version": "3.8.8"
  }
 },
 "nbformat": 4,
 "nbformat_minor": 5
}
